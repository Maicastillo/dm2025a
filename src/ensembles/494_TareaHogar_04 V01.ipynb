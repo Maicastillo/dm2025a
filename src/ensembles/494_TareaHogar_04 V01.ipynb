{
 "cells": [
  {
   "cell_type": "markdown",
   "metadata": {
    "id": "0cEmzeUKFkPh"
   },
   "source": [
    "# Tarea para el Hogar 04"
   ]
  },
  {
   "cell_type": "markdown",
   "metadata": {
    "id": "nSICPpyTGQmC"
   },
   "source": [
    "Esta Tarea para el Hogar 02 se entrega el final de la cuarta clase\n",
    "<br> se espera de usted que intente avanzar con los desafios propuestos y que los traiga terminados para la Clase 05 que será el viernes 01-agosto"
   ]
  },
  {
   "cell_type": "markdown",
   "metadata": {
    "id": "DenyKXkiJ5JN"
   },
   "source": [
    "##  1. Cazatalentos"
   ]
  },
  {
   "cell_type": "markdown",
   "metadata": {
    "id": "l-K2_ZsZGrVD"
   },
   "source": [
    "En la Clase 03 nos hemos enfrentado a  \"La Maldicion del Ganandor\",  elegir el modelo con el mejor puntaje simple no suele ser la mejor estrategia.\n",
    "<br> Lea y ejecute el notebook  **src/CazaTalentos/CazaTalentos.ipynb**\n",
    "<br> en caso de interesarle, participe del Desafío Ordenamiento  que vence el sábado 02 de agosto a las 19:00"
   ]
  },
  {
   "cell_type": "markdown",
   "metadata": {
    "id": "K9GkTOk5J9t3"
   },
   "source": [
    "## 2. Hiperparámetros del LightGBM"
   ]
  },
  {
   "cell_type": "markdown",
   "metadata": {
    "id": "VmEFy0ukKL5T"
   },
   "source": [
    "Los objetivos de esta tarea son:\n",
    "\n",
    "\n",
    "*   Aumentar la rentabilidad de la campaña de marketing de retención proactiva de clientes.\n",
    "*   Generar un mejor modelo optimizando sus hiperparámetros\n",
    "*   Conceptual : investigar los mas relevantes hiperparámetros de LightGBM\n",
    "*   Familiarizarse con la Bayesian Optimization, sus largos tiempos de corrida y opciones para reducirlos\n",
    "*   Familiarizarse con el uso de máquinas virtuales de Google Colab\n",
    "*   Ver un pipeline completo de optimización de hiperparámetros y puesta en producción"
   ]
  },
  {
   "cell_type": "markdown",
   "metadata": {
    "id": "5yvlS6JQLRMd"
   },
   "source": [
    "LightGBM cuenta con mas de 60 hiperparámetros, siendo posible utilizar 40 al mismo tiempo, aunque no razonable.\n",
    "<br> La documentación oficial de los hiperparámetros de LightGBM es  https://lightgbm.readthedocs.io/en/latest/Parameters.html#core-parameters\n"
   ]
  },
  {
   "cell_type": "markdown",
   "metadata": {
    "id": "eydI4YNAsFaf"
   },
   "source": [
    "Se lo alerta sobre que una Optimizacion Bayesiana lleva varias horas de corrida, y usted deberá correr VARIAS optimizaciones para descubrir cuales parámetros conviene optimizar.\n",
    "<br> A pesar que la próxima clase es recien en viernes 01 de agosto, inicie la tarea con tiempo, aprenda a planificar estratégicamente sus corridas como un@ científ@  de datos."
   ]
  },
  {
   "cell_type": "markdown",
   "metadata": {
    "id": "RzU4S0SeMcpp"
   },
   "source": [
    "Es necesario investigar cuales son los hiperparámetros de LightGBM que vale la pena optimizar en una Bayesian Optimization, ya que los realmente utiles son apenas un reducido subconjunto.\n",
    "<br>Usted deberá investigar cuales son los hiperparámetros mas relevantes de LightGBM, su primer alternativa es preguntándole a su amigo con capacidades especiales ChatGPT o sus endogámicos familiares Claude, DeepSeek, Gemini, Grok, etc\n",
    "<br> La segunda alternativa es la propia documentación de LightGBM  https://lightgbm.readthedocs.io/en/latest/Parameters-Tuning.html\n"
   ]
  },
  {
   "cell_type": "markdown",
   "metadata": {
    "id": "LNptUgI_NWWG"
   },
   "source": [
    "Adicionalmente podra buscar información como la que proveen esta diminuta muestra aleatoria de artículos ligeros:\n",
    "*  https://medium.com/@sarahzouinina/a-deep-dive-into-lightgbm-how-to-choose-and-tune-parameters-7c584945842e\n",
    "*  https://www.kaggle.com/code/somang1418/tuning-hyperparameters-under-10-minutes-lgbm\n",
    "*  https://towardsdatascience.com/beginners-guide-to-the-must-know-lightgbm-hyperparameters-a0005a812702/\n",
    "\n",
    "\n",
    "<br>  La muestra anterior se brinda a modo de ejemplo, usted deberá buscar muuuuchas  fuentes adicionales de información\n",
    "<br> Tenga presente que LightGBM es el estado del arte en modelado predictivo para datasets estructurado, que son el 90% del trabajo del 95% de los Data Scientists en Argentina."
   ]
  },
  {
   "cell_type": "markdown",
   "metadata": {
    "id": "WpUThBojODyK"
   },
   "source": [
    "El desafío de esta tarea es:\n",
    "* Qué hiperparparámetros conviene optimizar?  Las recomendaciones de los artículos ligeros es siempre sensata?  Sus autores realmente hicieron experimentos o son siemplemente escritores de entretenimiento carente de base científica?\n",
    "* Elegidos los hiperparámetros, cual es el  <desde, hasta> que se debe utilizar en la Bayesian Optimization ?\n",
    "* Realmente vale la pena optimizar 10 o 16 hiperparámetros al mismo tiempo ?  No resulta contraproducente una búsqueda en un espacio de tal alta dimensionalidad ?"
   ]
  },
  {
   "cell_type": "markdown",
   "metadata": {
    "id": "PX0qg_c0yqob"
   },
   "source": [
    "#### 2.1  Seteo del ambiente en Google Colab"
   ]
  },
  {
   "cell_type": "markdown",
   "metadata": {
    "id": "NGY7H9xza7Zr"
   },
   "source": [
    "Esta parte se debe correr con el runtime en Python3\n",
    "<br>Ir al menu, Runtime -> Change Runtime Type -> Runtime type ->  **Python 3**"
   ]
  },
  {
   "cell_type": "markdown",
   "metadata": {
    "id": "7PupIBNba7Zr"
   },
   "source": [
    "Conectar la virtual machine donde esta corriendo Google Colab con el  Google Drive, para poder tener persistencia de archivos"
   ]
  },
  {
   "cell_type": "code",
   "execution_count": null,
   "metadata": {
    "id": "9LpZCst5a7Zs"
   },
   "outputs": [],
   "source": [
    "# primero establecer el Runtime de Python 3\n",
    "from google.colab import drive\n",
    "drive.mount('/content/.drive')"
   ]
  },
  {
   "cell_type": "markdown",
   "metadata": {
    "id": "JYC_F-wla7Zs"
   },
   "source": [
    "Para correr la siguiente celda es fundamental en Arranque en Frio haber copiado el archivo kaggle.json al Google Drive, en la carpeta indicada en el instructivo\n",
    "\n",
    "<br>los siguientes comando estan en shell script de Linux\n",
    "*   Crear las carpetas en el Google Drive\n",
    "*   \"instalar\" el archivo kaggle.json desde el Google Drive a la virtual machine para que pueda ser utilizado por la libreria  kaggle de Python\n",
    "*   Bajar el  **dataset_pequeno**  al  Google Drive  y tambien al disco local de la virtual machine que esta corriendo Google Colab\n",
    "\n"
   ]
  },
  {
   "cell_type": "code",
   "execution_count": null,
   "metadata": {
    "id": "XWLelftXa7Zt"
   },
   "outputs": [],
   "source": [
    "%%shell\n",
    "\n",
    "mkdir -p \"/content/.drive/My Drive/dm\"\n",
    "mkdir -p \"/content/buckets\"\n",
    "ln -s \"/content/.drive/My Drive/dm\" /content/buckets/b1\n",
    "\n",
    "mkdir -p ~/.kaggle\n",
    "cp /content/buckets/b1/kaggle/kaggle.json  ~/.kaggle\n",
    "chmod 600 ~/.kaggle/kaggle.json\n",
    "\n",
    "\n",
    "mkdir -p /content/buckets/b1/exp\n",
    "mkdir -p /content/buckets/b1/datasets\n",
    "mkdir -p /content/datasets\n",
    "\n",
    "\n",
    "\n",
    "archivo_origen=\"https://storage.googleapis.com/open-courses/itba2025-8d0a/dataset_pequeno.csv\"\n",
    "archivo_destino=\"/content/datasets/dataset_pequeno.csv\"\n",
    "archivo_destino_bucket=\"/content/buckets/b1/datasets/dataset_pequeno.csv\"\n",
    "\n",
    "if ! test -f $archivo_destino_bucket; then\n",
    "  wget  $archivo_origen  -O $archivo_destino_bucket\n",
    "fi\n",
    "\n",
    "\n",
    "if ! test -f $archivo_destino; then\n",
    "  cp  $archivo_destino_bucket  $archivo_destino\n",
    "fi\n"
   ]
  },
  {
   "cell_type": "markdown",
   "metadata": {
    "id": "oSKhZRToy2F7"
   },
   "source": [
    "### 2.2 Optimizacion Hiperparámetros"
   ]
  },
  {
   "cell_type": "markdown",
   "metadata": {
    "id": "2kwPpHAtSmix"
   },
   "source": [
    "Esta parte se debe correr con el runtime en lenguaje R Ir al menu, Runtime -> Change Runtime Type -> Runtime type -> R"
   ]
  },
  {
   "cell_type": "markdown",
   "metadata": {
    "id": "xp4-Bj3aYI8d"
   },
   "source": [
    "### 2.2.1 Inicio"
   ]
  },
  {
   "cell_type": "markdown",
   "metadata": {
    "id": "zy8YTZfESxeJ"
   },
   "source": [
    "limpio el ambiente de R"
   ]
  },
  {
   "cell_type": "code",
   "execution_count": 1,
   "metadata": {
    "id": "gBq__iAdQliq"
   },
   "outputs": [
    {
     "data": {
      "text/html": [
       "'Wed Jul 23 00:25:32 2025'"
      ],
      "text/latex": [
       "'Wed Jul 23 00:25:32 2025'"
      ],
      "text/markdown": [
       "'Wed Jul 23 00:25:32 2025'"
      ],
      "text/plain": [
       "[1] \"Wed Jul 23 00:25:32 2025\""
      ]
     },
     "metadata": {},
     "output_type": "display_data"
    }
   ],
   "source": [
    "format(Sys.time(), \"%a %b %d %X %Y\")"
   ]
  },
  {
   "cell_type": "code",
   "execution_count": 2,
   "metadata": {
    "id": "7rdVrBojS1IV"
   },
   "outputs": [
    {
     "data": {
      "text/html": [
       "<table class=\"dataframe\">\n",
       "<caption>A matrix: 2 × 6 of type dbl</caption>\n",
       "<thead>\n",
       "\t<tr><th></th><th scope=col>used</th><th scope=col>(Mb)</th><th scope=col>gc trigger</th><th scope=col>(Mb)</th><th scope=col>max used</th><th scope=col>(Mb)</th></tr>\n",
       "</thead>\n",
       "<tbody>\n",
       "\t<tr><th scope=row>Ncells</th><td> 656846</td><td>35.1</td><td>1439371</td><td>76.9</td><td>1439371</td><td>76.9</td></tr>\n",
       "\t<tr><th scope=row>Vcells</th><td>1224987</td><td> 9.4</td><td>8388608</td><td>64.0</td><td>1924971</td><td>14.7</td></tr>\n",
       "</tbody>\n",
       "</table>\n"
      ],
      "text/latex": [
       "A matrix: 2 × 6 of type dbl\n",
       "\\begin{tabular}{r|llllll}\n",
       "  & used & (Mb) & gc trigger & (Mb) & max used & (Mb)\\\\\n",
       "\\hline\n",
       "\tNcells &  656846 & 35.1 & 1439371 & 76.9 & 1439371 & 76.9\\\\\n",
       "\tVcells & 1224987 &  9.4 & 8388608 & 64.0 & 1924971 & 14.7\\\\\n",
       "\\end{tabular}\n"
      ],
      "text/markdown": [
       "\n",
       "A matrix: 2 × 6 of type dbl\n",
       "\n",
       "| <!--/--> | used | (Mb) | gc trigger | (Mb) | max used | (Mb) |\n",
       "|---|---|---|---|---|---|---|\n",
       "| Ncells |  656846 | 35.1 | 1439371 | 76.9 | 1439371 | 76.9 |\n",
       "| Vcells | 1224987 |  9.4 | 8388608 | 64.0 | 1924971 | 14.7 |\n",
       "\n"
      ],
      "text/plain": [
       "       used    (Mb) gc trigger (Mb) max used (Mb)\n",
       "Ncells  656846 35.1 1439371    76.9 1439371  76.9\n",
       "Vcells 1224987  9.4 8388608    64.0 1924971  14.7"
      ]
     },
     "metadata": {},
     "output_type": "display_data"
    }
   ],
   "source": [
    "# limpio la memoria\n",
    "rm(list=ls(all.names=TRUE)) # remove all objects\n",
    "gc(full=TRUE, verbose=FALSE) # garbage collection"
   ]
  },
  {
   "cell_type": "markdown",
   "metadata": {
    "id": "kuPfQ7ksjwW3"
   },
   "source": [
    "### 2.2.2 Carga de Librerias"
   ]
  },
  {
   "cell_type": "code",
   "execution_count": 3,
   "metadata": {
    "id": "lVyxLaJ1j1J_"
   },
   "outputs": [
    {
     "name": "stderr",
     "output_type": "stream",
     "text": [
      "Loading required package: data.table\n",
      "\n",
      "Loading required package: parallel\n",
      "\n",
      "Loading required package: primes\n",
      "\n",
      "Loading required package: rlist\n",
      "\n",
      "Loading required package: yaml\n",
      "\n",
      "Loading required package: lightgbm\n",
      "\n",
      "Loading required package: DiceKriging\n",
      "\n",
      "Loading required package: mlrMBO\n",
      "\n",
      "Loading required package: mlr\n",
      "\n",
      "Loading required package: ParamHelpers\n",
      "\n",
      "Loading required package: smoof\n",
      "\n",
      "Loading required package: checkmate\n",
      "\n",
      "\n",
      "Attaching package: ‘checkmate’\n",
      "\n",
      "\n",
      "The following object is masked from ‘package:DiceKriging’:\n",
      "\n",
      "    checkNames\n",
      "\n",
      "\n"
     ]
    }
   ],
   "source": [
    "# cargo las librerias que necesito\n",
    "require(\"data.table\")\n",
    "require(\"parallel\")\n",
    "\n",
    "if( !require(\"primes\") ) install.packages(\"primes\")\n",
    "require(\"primes\")\n",
    "\n",
    "if( !require(\"utils\") ) install.packages(\"utils\")\n",
    "require(\"utils\")\n",
    "\n",
    "if( !require(\"rlist\") ) install.packages(\"rlist\")\n",
    "require(\"rlist\")\n",
    "\n",
    "if( !require(\"yaml\")) install.packages(\"yaml\")\n",
    "require(\"yaml\")\n",
    "\n",
    "if( !require(\"lightgbm\") ) install.packages(\"lightgbm\")\n",
    "require(\"lightgbm\")\n",
    "\n",
    "if( !require(\"DiceKriging\") ) install.packages(\"DiceKriging\")\n",
    "require(\"DiceKriging\")\n",
    "\n",
    "if( !require(\"mlrMBO\") ) install.packages(\"mlrMBO\")\n",
    "require(\"mlrMBO\")"
   ]
  },
  {
   "cell_type": "markdown",
   "metadata": {
    "id": "Iz-6Qt6BUaA3"
   },
   "source": [
    "### 2.2.3 Definicion de Parametros"
   ]
  },
  {
   "cell_type": "markdown",
   "metadata": {
    "id": "cOdlKd7lUm2I"
   },
   "source": [
    "aqui debe cargar SU semilla primigenia\n",
    "<br>recuerde cambiar el numero de experimento en cada corrida nueva"
   ]
  },
  {
   "cell_type": "code",
   "execution_count": 4,
   "metadata": {
    "id": "ASYkebOu2mF6"
   },
   "outputs": [],
   "source": [
    "PARAM <- list()\n",
    "PARAM$experimento <- 1001\n",
    "PARAM$semilla_primigenia <- 179573\n"
   ]
  },
  {
   "cell_type": "code",
   "execution_count": 5,
   "metadata": {
    "id": "ezOhQdbA293o"
   },
   "outputs": [],
   "source": [
    "PARAM$kaggle$competencia <- \"data-mining-analista-sr-2025-a\"\n",
    "PARAM$kaggle$cortes <- seq(10000, 12000, by= 500)"
   ]
  },
  {
   "cell_type": "code",
   "execution_count": 6,
   "metadata": {
    "id": "jtB0Lub42rHO"
   },
   "outputs": [],
   "source": [
    "# un undersampling de 0.1  toma solo el 10% de los CONTINUA\n",
    "# undersampling de 1.0  implica tomar TODOS los datos\n",
    "\n",
    "PARAM$trainingstrategy$undersampling <- 0.5"
   ]
  },
  {
   "cell_type": "code",
   "execution_count": 8,
   "metadata": {
    "id": "OFxm-xiNUOJX"
   },
   "outputs": [],
   "source": [
    "# Parametros LightGBM\n",
    "\n",
    "PARAM$hyperparametertuning$xval_folds <- 5\n",
    "\n",
    "# parametros fijos del LightGBM que se pisaran con la parte variable de la BO\n",
    "PARAM$lgbm$param_fijos <-  list(\n",
    "  boosting= \"gbdt\", # puede ir  dart  , ni pruebe random_forest\n",
    "  objective= \"binary\",\n",
    "  metric= \"auc\",\n",
    "  first_metric_only= FALSE,\n",
    "  boost_from_average= TRUE,\n",
    "  feature_pre_filter= FALSE,\n",
    "  force_row_wise= TRUE, # para reducir warnings\n",
    "  verbosity= -100,\n",
    "\n",
    "  seed= PARAM$semilla_primigenia,\n",
    "\n",
    "  max_depth= 7L, # -1 significa no limitar,  por ahora lo dejo fijo\n",
    "  min_gain_to_split= 0, # min_gain_to_split >= 0\n",
    "  min_sum_hessian_in_leaf= 0.001, #  min_sum_hessian_in_leaf >= 0.0\n",
    "  lambda_l1= 0.0, # lambda_l1 >= 0.0\n",
    "  lambda_l2= 0.0, # lambda_l2 >= 0.0\n",
    "  max_bin= 31L, # lo debo dejar fijo, no participa de la BO\n",
    "\n",
    "  bagging_fraction= 1.0, # 0.0 < bagging_fraction <= 1.0\n",
    "  pos_bagging_fraction= 1.0, # 0.0 < pos_bagging_fraction <= 1.0\n",
    "  neg_bagging_fraction= 1.0, # 0.0 < neg_bagging_fraction <= 1.0\n",
    "  is_unbalance= FALSE, #\n",
    "  scale_pos_weight= 1.0, # scale_pos_weight > 0.0\n",
    "\n",
    "  drop_rate= 0.1, # 0.0 < neg_bagging_fraction <= 1.0\n",
    "  max_drop= 50, # <=0 means no limit\n",
    "  skip_drop= 0.5, # 0.0 <= skip_drop <= 1.0\n",
    "\n",
    "  extra_trees= FALSE,\n",
    "\n",
    "  num_iterations= 1200,\n",
    "  learning_rate= 0.02,\n",
    "  feature_fraction= 0.5,\n",
    "  num_leaves= 100,\n",
    "  min_data_in_leaf= 100\n",
    ")\n"
   ]
  },
  {
   "cell_type": "markdown",
   "metadata": {
    "id": "D5Yj-JV4yvOt"
   },
   "source": [
    "Aqui se definen los hiperparámetros de LightGBM que participan de la Bayesian Optimization\n",
    "<br> si es un numero entero debe ir  makeIntegerParam\n",
    "<br> si es un numero real (con decimales) debe ir  makeNumericParam\n",
    "<br> es muy importante leer cuales son un lower y upper  permitidos y ademas razonables"
   ]
  },
  {
   "cell_type": "code",
   "execution_count": 9,
   "metadata": {
    "id": "jENpR26ZyuS8"
   },
   "outputs": [],
   "source": [
    "# Aqui se cargan los bordes de los hiperparametros de la BO\n",
    "PARAM$hypeparametertuning$hs <- makeParamSet(\n",
    "  makeIntegerParam(\"num_iterations\", lower= 8L, upper= 2048L),\n",
    "  makeNumericParam(\"learning_rate\", lower= 0.01, upper= 0.3),\n",
    "  makeNumericParam(\"feature_fraction\", lower= 0.1, upper= 1.0),\n",
    "  makeIntegerParam(\"num_leaves\", lower= 8L, upper= 128L),\n",
    "  makeIntegerParam(\"min_data_in_leaf\", lower= 20L, upper= 200L)\n",
    ")"
   ]
  },
  {
   "cell_type": "markdown",
   "metadata": {
    "id": "-_RPFUb3zMoW"
   },
   "source": [
    "A mayor cantidad de hiperparámetros, se debe aumentar las iteraciones de la Bayesian Optimization\n",
    "<br> 30 es un valor muy tacaño, pero corre rápido\n",
    "<br> deberia partir de 50, alcanzando los 100 si se dispone de tiempo"
   ]
  },
  {
   "cell_type": "code",
   "execution_count": 10,
   "metadata": {
    "id": "q5Rd3pnbzSiG"
   },
   "outputs": [],
   "source": [
    "PARAM$hyperparametertuning$iteraciones <- 50 # iteraciones bayesianas"
   ]
  },
  {
   "cell_type": "markdown",
   "metadata": {
    "id": "4RWZXL1VZjMI"
   },
   "source": [
    "### 2.2.4  Preprocesamiento"
   ]
  },
  {
   "cell_type": "code",
   "execution_count": 11,
   "metadata": {
    "id": "j3toG9-lZm4K"
   },
   "outputs": [],
   "source": [
    "# carpeta de trabajo\n",
    "\n",
    "setwd(\"/content/buckets/b1/exp\")\n",
    "experimento_folder <- paste0(\"HT\", PARAM$experimento)\n",
    "dir.create(experimento_folder, showWarnings=FALSE)\n",
    "setwd( paste0(\"/content/buckets/b1/exp/\", experimento_folder ))"
   ]
  },
  {
   "cell_type": "code",
   "execution_count": 12,
   "metadata": {
    "id": "FM3lxKoLZ643"
   },
   "outputs": [],
   "source": [
    "# lectura del dataset\n",
    "\n",
    "dataset <- fread(\"/content/datasets/dataset_pequeno.csv\")"
   ]
  },
  {
   "cell_type": "code",
   "execution_count": 13,
   "metadata": {
    "id": "OsJ-91UeZ-I_"
   },
   "outputs": [],
   "source": [
    "dataset_train <- dataset[foto_mes %in% c(202107)]"
   ]
  },
  {
   "cell_type": "code",
   "execution_count": 14,
   "metadata": {
    "id": "vrWE7BE0aB2J"
   },
   "outputs": [],
   "source": [
    "# paso la clase a binaria que tome valores {0,1}  enteros\n",
    "#  BAJA+1 y BAJA+2  son  1,   CONTINUA es 0\n",
    "\n",
    "dataset_train[,\n",
    "  clase01 := ifelse(clase_ternaria %in% c(\"BAJA+2\",\"BAJA+1\"), 1L, 0L)\n",
    "]"
   ]
  },
  {
   "cell_type": "code",
   "execution_count": 15,
   "metadata": {
    "id": "jP7YlQBnaW6W"
   },
   "outputs": [],
   "source": [
    "# defino los datos que forma parte del training\n",
    "# aqui se hace el undersampling de los CONTINUA\n",
    "# notar que para esto utilizo la SEGUNDA semilla\n",
    "\n",
    "set.seed(PARAM$semilla_primigenia, kind = \"L'Ecuyer-CMRG\")\n",
    "dataset_train[, azar := runif(nrow(dataset_train))]\n",
    "dataset_train[, training := 0L]\n",
    "\n",
    "dataset_train[\n",
    "  foto_mes %in% c(202107) &\n",
    "    (azar <= PARAM$trainingstrategy$undersampling | clase_ternaria %in% c(\"BAJA+1\", \"BAJA+2\")),\n",
    "  training := 1L\n",
    "]"
   ]
  },
  {
   "cell_type": "code",
   "execution_count": 16,
   "metadata": {
    "id": "xElu4s5W4rX7"
   },
   "outputs": [],
   "source": [
    "# los campos que se van a utilizar\n",
    "\n",
    "campos_buenos <- setdiff(\n",
    "  colnames(dataset_train),\n",
    "  c(\"clase_ternaria\", \"clase01\", \"azar\", \"training\")\n",
    ")"
   ]
  },
  {
   "cell_type": "code",
   "execution_count": 17,
   "metadata": {
    "id": "PppMHcGYaaol"
   },
   "outputs": [
    {
     "data": {
      "text/html": [
       "83217"
      ],
      "text/latex": [
       "83217"
      ],
      "text/markdown": [
       "83217"
      ],
      "text/plain": [
       "[1] 83217"
      ]
     },
     "metadata": {},
     "output_type": "display_data"
    },
    {
     "data": {
      "text/html": [
       "154"
      ],
      "text/latex": [
       "154"
      ],
      "text/markdown": [
       "154"
      ],
      "text/plain": [
       "[1] 154"
      ]
     },
     "metadata": {},
     "output_type": "display_data"
    }
   ],
   "source": [
    "# dejo los datos en el formato que necesita LightGBM\n",
    "\n",
    "dtrain <- lgb.Dataset(\n",
    "  data= data.matrix(dataset_train[training == 1L, campos_buenos, with= FALSE]),\n",
    "  label= dataset_train[training == 1L, clase01],\n",
    "  free_raw_data= FALSE\n",
    ")\n",
    "\n",
    "nrow(dtrain)\n",
    "ncol(dtrain)"
   ]
  },
  {
   "cell_type": "markdown",
   "metadata": {
    "id": "Ta-EkOu3cphF"
   },
   "source": [
    "2.2.5 Configuracion Bayesian Optimization"
   ]
  },
  {
   "cell_type": "code",
   "execution_count": 18,
   "metadata": {
    "id": "cjgfurjdfiXb"
   },
   "outputs": [],
   "source": [
    "# En el argumento x llegan los parmaetros de la bayesiana\n",
    "#  devuelve la AUC en cross validation del modelo entrenado\n",
    "\n",
    "EstimarGanancia_AUC_lightgbm <- function(x) {\n",
    "\n",
    "  # x pisa (o agrega) a param_fijos\n",
    "  param_completo <- modifyList(PARAM$lgbm$param_fijos, x)\n",
    "\n",
    "  # entreno LightGBM\n",
    "  modelocv <- lgb.cv(\n",
    "    data= dtrain,\n",
    "    nfold= PARAM$hyperparametertuning$xval_folds,\n",
    "    stratified= TRUE,\n",
    "    param= param_completo\n",
    "  )\n",
    "\n",
    "  # obtengo la ganancia\n",
    "  AUC <- modelocv$best_score\n",
    "\n",
    "  # hago espacio en la memoria\n",
    "  rm(modelocv)\n",
    "  gc(full= TRUE, verbose= FALSE)\n",
    "\n",
    "  message(format(Sys.time(), \"%a %b %d %X %Y\"), \" AUC \", AUC)\n",
    "\n",
    "  return(AUC)\n",
    "}"
   ]
  },
  {
   "cell_type": "code",
   "execution_count": 19,
   "metadata": {
    "id": "WLi_o1hocvN-"
   },
   "outputs": [],
   "source": [
    "# Aqui comienza la configuracion de la Bayesian Optimization\n",
    "\n",
    "# en este archivo quedan la evolucion binaria de la BO\n",
    "kbayesiana <- \"bayesiana.RDATA\"\n",
    "\n",
    "funcion_optimizar <- EstimarGanancia_AUC_lightgbm # la funcion que voy a maximizar\n",
    "\n",
    "configureMlr(show.learner.output= FALSE)\n",
    "\n",
    "# configuro la busqueda bayesiana,  los hiperparametros que se van a optimizar\n",
    "# por favor, no desesperarse por lo complejo\n",
    "\n",
    "obj.fun <- makeSingleObjectiveFunction(\n",
    "  fn= funcion_optimizar, # la funcion que voy a maximizar\n",
    "  minimize= FALSE, # estoy Maximizando la ganancia\n",
    "  noisy= TRUE,\n",
    "  par.set= PARAM$hypeparametertuning$hs, # definido al comienzo del programa\n",
    "  has.simple.signature= FALSE # paso los parametros en una lista\n",
    ")\n",
    "\n",
    "# cada 600 segundos guardo el resultado intermedio\n",
    "ctrl <- makeMBOControl(\n",
    "  save.on.disk.at.time= 600, # se graba cada 600 segundos\n",
    "  save.file.path= kbayesiana\n",
    ") # se graba cada 600 segundos\n",
    "\n",
    "# indico la cantidad de iteraciones que va a tener la Bayesian Optimization\n",
    "ctrl <- setMBOControlTermination(\n",
    "  ctrl,\n",
    "  iters= PARAM$hyperparametertuning$iteraciones\n",
    ") # cantidad de iteraciones\n",
    "\n",
    "# defino el método estandar para la creacion de los puntos iniciales,\n",
    "# los \"No Inteligentes\"\n",
    "ctrl <- setMBOControlInfill(ctrl, crit= makeMBOInfillCritEI())\n",
    "\n",
    "# establezco la funcion que busca el maximo\n",
    "surr.km <- makeLearner(\n",
    "  \"regr.km\",\n",
    "  predict.type= \"se\",\n",
    "  covtype= \"matern3_2\",\n",
    "  control= list(trace= TRUE)\n",
    ")\n"
   ]
  },
  {
   "cell_type": "markdown",
   "metadata": {
    "id": "_uUeVo5pc4zc"
   },
   "source": [
    "2.2.6 Corrida Bayesian Optimization"
   ]
  },
  {
   "cell_type": "code",
   "execution_count": 20,
   "metadata": {
    "id": "RcABNaKGciaz"
   },
   "outputs": [
    {
     "name": "stderr",
     "output_type": "stream",
     "text": [
      "Computing y column(s) for design. Not provided.\n",
      "\n",
      "Wed Jul 23 00:42:47 2025 AUC 0.922713462791907\n",
      "\n",
      "Wed Jul 23 00:43:30 2025 AUC 0.92432002974754\n",
      "\n",
      "Wed Jul 23 00:44:30 2025 AUC 0.9227627920376\n",
      "\n",
      "Wed Jul 23 00:45:12 2025 AUC 0.927752543400614\n",
      "\n",
      "Wed Jul 23 00:46:34 2025 AUC 0.930842234284587\n",
      "\n",
      "Wed Jul 23 00:48:04 2025 AUC 0.922295826575875\n",
      "\n",
      "Wed Jul 23 00:48:53 2025 AUC 0.924704902435656\n",
      "\n",
      "Wed Jul 23 00:49:23 2025 AUC 0.920279869680496\n",
      "\n",
      "Wed Jul 23 00:49:56 2025 AUC 0.925760490193817\n",
      "\n",
      "Wed Jul 23 00:50:14 2025 AUC 0.929054866509658\n",
      "\n",
      "Wed Jul 23 00:51:14 2025 AUC 0.925252892135973\n",
      "\n",
      "Wed Jul 23 00:51:55 2025 AUC 0.926561926942466\n",
      "\n",
      "Wed Jul 23 00:52:04 2025 AUC 0.927596056049065\n",
      "\n",
      "Wed Jul 23 00:52:14 2025 AUC 0.922870109540523\n",
      "\n",
      "Wed Jul 23 00:53:48 2025 AUC 0.922716379900787\n",
      "\n",
      "Wed Jul 23 00:53:53 2025 AUC 0.919236947410405\n",
      "\n",
      "Wed Jul 23 00:55:13 2025 AUC 0.928099487346056\n",
      "\n",
      "Wed Jul 23 00:56:25 2025 AUC 0.929473820477346\n",
      "\n",
      "Wed Jul 23 00:57:13 2025 AUC 0.929380325537549\n",
      "\n",
      "Wed Jul 23 00:57:42 2025 AUC 0.916376951810263\n",
      "\n",
      "[mbo] 0: num_iterations=347; learning_rate=0.226; feature_fraction=0.38; num_leaves=90; min_data_in_leaf=118 : y = 0.923 : 21.0 secs : initdesign\n",
      "\n",
      "[mbo] 0: num_iterations=799; learning_rate=0.159; feature_fraction=0.574; num_leaves=99; min_data_in_leaf=80 : y = 0.924 : 43.4 secs : initdesign\n",
      "\n",
      "[mbo] 0: num_iterations=1530; learning_rate=0.197; feature_fraction=0.776; num_leaves=67; min_data_in_leaf=122 : y = 0.923 : 60.0 secs : initdesign\n",
      "\n",
      "[mbo] 0: num_iterations=1130; learning_rate=0.0729; feature_fraction=0.754; num_leaves=40; min_data_in_leaf=47 : y = 0.928 : 42.3 secs : initdesign\n",
      "\n",
      "[mbo] 0: num_iterations=1386; learning_rate=0.0219; feature_fraction=0.472; num_leaves=60; min_data_in_leaf=65 : y = 0.931 : 81.3 secs : initdesign\n",
      "\n",
      "[mbo] 0: num_iterations=1570; learning_rate=0.174; feature_fraction=0.44; num_leaves=54; min_data_in_leaf=26 : y = 0.922 : 90.7 secs : initdesign\n",
      "\n",
      "[mbo] 0: num_iterations=915; learning_rate=0.205; feature_fraction=0.319; num_leaves=95; min_data_in_leaf=151 : y = 0.925 : 48.7 secs : initdesign\n",
      "\n",
      "[mbo] 0: num_iterations=604; learning_rate=0.292; feature_fraction=0.265; num_leaves=47; min_data_in_leaf=139 : y = 0.92 : 30.1 secs : initdesign\n",
      "\n",
      "[mbo] 0: num_iterations=1103; learning_rate=0.145; feature_fraction=0.842; num_leaves=30; min_data_in_leaf=103 : y = 0.926 : 33.2 secs : initdesign\n",
      "\n",
      "[mbo] 0: num_iterations=456; learning_rate=0.0885; feature_fraction=0.693; num_leaves=119; min_data_in_leaf=194 : y = 0.929 : 18.2 secs : initdesign\n",
      "\n",
      "[mbo] 0: num_iterations=1260; learning_rate=0.123; feature_fraction=0.597; num_leaves=86; min_data_in_leaf=88 : y = 0.925 : 59.3 secs : initdesign\n",
      "\n",
      "[mbo] 0: num_iterations=1941; learning_rate=0.106; feature_fraction=0.992; num_leaves=11; min_data_in_leaf=97 : y = 0.927 : 41.2 secs : initdesign\n",
      "\n",
      "[mbo] 0: num_iterations=207; learning_rate=0.135; feature_fraction=0.226; num_leaves=15; min_data_in_leaf=43 : y = 0.928 : 8.9 secs : initdesign\n",
      "\n",
      "[mbo] 0: num_iterations=259; learning_rate=0.24; feature_fraction=0.944; num_leaves=35; min_data_in_leaf=136 : y = 0.923 : 9.9 secs : initdesign\n",
      "\n",
      "[mbo] 0: num_iterations=1824; learning_rate=0.246; feature_fraction=0.348; num_leaves=115; min_data_in_leaf=164 : y = 0.923 : 94.6 secs : initdesign\n",
      "\n",
      "[mbo] 0: num_iterations=103; learning_rate=0.28; feature_fraction=0.107; num_leaves=107; min_data_in_leaf=173 : y = 0.919 : 4.9 secs : initdesign\n",
      "\n",
      "[mbo] 0: num_iterations=1690; learning_rate=0.0667; feature_fraction=0.156; num_leaves=80; min_data_in_leaf=59 : y = 0.928 : 79.7 secs : initdesign\n",
      "\n",
      "[mbo] 0: num_iterations=2029; learning_rate=0.0349; feature_fraction=0.891; num_leaves=128; min_data_in_leaf=176 : y = 0.929 : 72.0 secs : initdesign\n",
      "\n",
      "[mbo] 0: num_iterations=928; learning_rate=0.0497; feature_fraction=0.523; num_leaves=26; min_data_in_leaf=189 : y = 0.929 : 48.1 secs : initdesign\n",
      "\n",
      "[mbo] 0: num_iterations=698; learning_rate=0.263; feature_fraction=0.679; num_leaves=70; min_data_in_leaf=30 : y = 0.916 : 28.6 secs : initdesign\n",
      "\n",
      "Saved the current state after iteration 1 in the file bayesiana.RDATA.\n",
      "\n",
      "Wed Jul 23 00:58:00 2025 AUC 0.925968648183858\n",
      "\n",
      "[mbo] 1: num_iterations=207; learning_rate=0.01; feature_fraction=0.334; num_leaves=114; min_data_in_leaf=110 : y = 0.926 : 12.7 secs : infill_ei\n",
      "\n",
      "Wed Jul 23 00:59:32 2025 AUC 0.930488861843371\n",
      "\n",
      "[mbo] 2: num_iterations=2048; learning_rate=0.0102; feature_fraction=0.436; num_leaves=8; min_data_in_leaf=51 : y = 0.93 : 90.9 secs : infill_ei\n",
      "\n",
      "Wed Jul 23 01:01:31 2025 AUC 0.930645743719778\n",
      "\n",
      "[mbo] 3: num_iterations=2048; learning_rate=0.0137; feature_fraction=0.522; num_leaves=52; min_data_in_leaf=119 : y = 0.931 : 118.5 secs : infill_ei\n",
      "\n",
      "Wed Jul 23 01:02:25 2025 AUC 0.930229190567464\n",
      "\n",
      "[mbo] 4: num_iterations=1646; learning_rate=0.0136; feature_fraction=0.848; num_leaves=34; min_data_in_leaf=81 : y = 0.93 : 53.8 secs : infill_ei\n",
      "\n",
      "Wed Jul 23 01:03:23 2025 AUC 0.930512930662294\n",
      "\n",
      "[mbo] 5: num_iterations=1543; learning_rate=0.0204; feature_fraction=0.128; num_leaves=17; min_data_in_leaf=93 : y = 0.931 : 56.9 secs : infill_ei\n",
      "\n",
      "Wed Jul 23 01:05:14 2025 AUC 0.930128142839589\n",
      "\n",
      "[mbo] 6: num_iterations=2006; learning_rate=0.0258; feature_fraction=0.449; num_leaves=43; min_data_in_leaf=74 : y = 0.93 : 110.5 secs : infill_ei\n",
      "\n",
      "Wed Jul 23 01:06:29 2025 AUC 0.929897288084868\n",
      "\n",
      "[mbo] 7: num_iterations=1506; learning_rate=0.01; feature_fraction=0.249; num_leaves=52; min_data_in_leaf=20 : y = 0.93 : 74.4 secs : infill_ei\n",
      "\n",
      "Wed Jul 23 01:07:55 2025 AUC 0.930271581204361\n",
      "\n",
      "[mbo] 8: num_iterations=1488; learning_rate=0.0107; feature_fraction=0.484; num_leaves=69; min_data_in_leaf=156 : y = 0.93 : 85.3 secs : infill_ei\n",
      "\n",
      "Saved the current state after iteration 9 in the file bayesiana.RDATA.\n",
      "\n",
      "Wed Jul 23 01:09:00 2025 AUC 0.93027102932624\n",
      "\n",
      "[mbo] 9: num_iterations=1365; learning_rate=0.0163; feature_fraction=0.501; num_leaves=8; min_data_in_leaf=96 : y = 0.93 : 61.4 secs : infill_ei\n",
      "\n",
      "Wed Jul 23 01:10:04 2025 AUC 0.930421128771915\n",
      "\n",
      "[mbo] 10: num_iterations=1405; learning_rate=0.0101; feature_fraction=0.195; num_leaves=33; min_data_in_leaf=61 : y = 0.93 : 62.5 secs : infill_ei\n",
      "\n",
      "Wed Jul 23 01:10:53 2025 AUC 0.929149558426149\n",
      "\n",
      "[mbo] 11: num_iterations=1317; learning_rate=0.0242; feature_fraction=0.982; num_leaves=64; min_data_in_leaf=122 : y = 0.929 : 49.1 secs : infill_ei\n",
      "\n",
      "Wed Jul 23 01:12:30 2025 AUC 0.930031103856974\n",
      "\n",
      "[mbo] 12: num_iterations=1741; learning_rate=0.0101; feature_fraction=0.555; num_leaves=60; min_data_in_leaf=70 : y = 0.93 : 95.9 secs : infill_ei\n",
      "\n",
      "Wed Jul 23 01:14:15 2025 AUC 0.930980362123121\n",
      "\n",
      "[mbo] 13: num_iterations=2046; learning_rate=0.0147; feature_fraction=0.358; num_leaves=36; min_data_in_leaf=200 : y = 0.931 : 104.4 secs : infill_ei\n",
      "\n",
      "Wed Jul 23 01:15:15 2025 AUC 0.928269685772589\n",
      "\n",
      "[mbo] 14: num_iterations=1379; learning_rate=0.0378; feature_fraction=0.101; num_leaves=123; min_data_in_leaf=200 : y = 0.928 : 59.1 secs : infill_ei\n",
      "\n",
      "Wed Jul 23 01:16:30 2025 AUC 0.93039064160976\n",
      "\n",
      "[mbo] 15: num_iterations=1513; learning_rate=0.0191; feature_fraction=0.31; num_leaves=33; min_data_in_leaf=49 : y = 0.93 : 74.0 secs : infill_ei\n",
      "\n",
      "Wed Jul 23 01:18:16 2025 AUC 0.931203440437241\n",
      "\n",
      "[mbo] 16: num_iterations=2048; learning_rate=0.0106; feature_fraction=0.475; num_leaves=19; min_data_in_leaf=159 : y = 0.931 : 105.3 secs : infill_ei\n",
      "\n",
      "Saved the current state after iteration 17 in the file bayesiana.RDATA.\n",
      "\n",
      "Wed Jul 23 01:19:06 2025 AUC 0.929119791953212\n",
      "\n",
      "[mbo] 17: num_iterations=2048; learning_rate=0.0126; feature_fraction=0.883; num_leaves=8; min_data_in_leaf=196 : y = 0.929 : 44.1 secs : infill_ei\n",
      "\n",
      "Wed Jul 23 01:19:23 2025 AUC 0.928230431548178\n",
      "\n",
      "[mbo] 18: num_iterations=395; learning_rate=0.108; feature_fraction=0.154; num_leaves=21; min_data_in_leaf=200 : y = 0.928 : 16.9 secs : infill_ei\n",
      "\n",
      "Wed Jul 23 01:20:33 2025 AUC 0.931639923894475\n",
      "\n",
      "[mbo] 19: num_iterations=1223; learning_rate=0.0213; feature_fraction=0.362; num_leaves=53; min_data_in_leaf=157 : y = 0.932 : 68.7 secs : infill_ei\n",
      "\n",
      "Wed Jul 23 01:20:51 2025 AUC 0.930045865750292\n",
      "\n",
      "[mbo] 20: num_iterations=322; learning_rate=0.0232; feature_fraction=0.333; num_leaves=55; min_data_in_leaf=146 : y = 0.93 : 17.5 secs : infill_ei\n",
      "\n",
      "Wed Jul 23 01:22:10 2025 AUC 0.931185060349373\n",
      "\n",
      "[mbo] 21: num_iterations=1369; learning_rate=0.0183; feature_fraction=0.42; num_leaves=47; min_data_in_leaf=154 : y = 0.931 : 77.8 secs : infill_ei\n",
      "\n",
      "Wed Jul 23 01:23:14 2025 AUC 0.930893310189798\n",
      "\n",
      "[mbo] 22: num_iterations=1382; learning_rate=0.028; feature_fraction=0.166; num_leaves=58; min_data_in_leaf=184 : y = 0.931 : 63.3 secs : infill_ei\n",
      "\n",
      "Wed Jul 23 01:24:12 2025 AUC 0.931077769776012\n",
      "\n",
      "[mbo] 23: num_iterations=1153; learning_rate=0.0222; feature_fraction=0.243; num_leaves=51; min_data_in_leaf=164 : y = 0.931 : 57.9 secs : infill_ei\n",
      "\n",
      "Wed Jul 23 01:25:26 2025 AUC 0.930459542762367\n",
      "\n",
      "[mbo] 24: num_iterations=1283; learning_rate=0.0233; feature_fraction=0.442; num_leaves=56; min_data_in_leaf=200 : y = 0.93 : 73.1 secs : infill_ei\n",
      "\n",
      "Wed Jul 23 01:26:34 2025 AUC 0.929195426887599\n",
      "\n",
      "[mbo] 25: num_iterations=1233; learning_rate=0.0287; feature_fraction=0.353; num_leaves=57; min_data_in_leaf=124 : y = 0.929 : 67.1 secs : infill_ei\n",
      "\n",
      "Wed Jul 23 01:28:12 2025 AUC 0.930176140573628\n",
      "\n",
      "[mbo] 26: num_iterations=2039; learning_rate=0.021; feature_fraction=0.196; num_leaves=64; min_data_in_leaf=168 : y = 0.93 : 97.3 secs : infill_ei\n",
      "\n",
      "Wed Jul 23 01:29:46 2025 AUC 0.93045811068668\n",
      "\n",
      "[mbo] 27: num_iterations=1901; learning_rate=0.0478; feature_fraction=0.468; num_leaves=20; min_data_in_leaf=186 : y = 0.93 : 92.7 secs : infill_ei\n",
      "\n",
      "Saved the current state after iteration 28 in the file bayesiana.RDATA.\n",
      "\n",
      "Wed Jul 23 01:30:58 2025 AUC 0.929719605733126\n",
      "\n",
      "[mbo] 28: num_iterations=1396; learning_rate=0.0197; feature_fraction=0.204; num_leaves=56; min_data_in_leaf=157 : y = 0.93 : 66.2 secs : infill_ei\n",
      "\n",
      "Wed Jul 23 01:31:56 2025 AUC 0.930069170171396\n",
      "\n",
      "[mbo] 29: num_iterations=1123; learning_rate=0.0241; feature_fraction=0.355; num_leaves=36; min_data_in_leaf=176 : y = 0.93 : 57.1 secs : infill_ei\n",
      "\n",
      "Wed Jul 23 01:32:50 2025 AUC 0.929058352065717\n",
      "\n",
      "[mbo] 30: num_iterations=994; learning_rate=0.0512; feature_fraction=0.4; num_leaves=53; min_data_in_leaf=162 : y = 0.929 : 53.6 secs : infill_ei\n",
      "\n",
      "Wed Jul 23 01:34:34 2025 AUC 0.930447811304954\n",
      "\n",
      "[mbo] 31: num_iterations=1922; learning_rate=0.0214; feature_fraction=0.433; num_leaves=40; min_data_in_leaf=145 : y = 0.93 : 103.3 secs : infill_ei\n",
      "\n",
      "Wed Jul 23 01:35:50 2025 AUC 0.930109333131148\n",
      "\n",
      "[mbo] 32: num_iterations=2037; learning_rate=0.0139; feature_fraction=0.696; num_leaves=51; min_data_in_leaf=164 : y = 0.93 : 74.4 secs : infill_ei\n",
      "\n",
      "Wed Jul 23 01:36:47 2025 AUC 0.929722386386397\n",
      "\n",
      "[mbo] 33: num_iterations=1054; learning_rate=0.0217; feature_fraction=0.396; num_leaves=76; min_data_in_leaf=168 : y = 0.93 : 57.1 secs : infill_ei\n",
      "\n",
      "Wed Jul 23 01:38:31 2025 AUC 0.930311665083281\n",
      "\n",
      "[mbo] 34: num_iterations=2036; learning_rate=0.0117; feature_fraction=0.32; num_leaves=52; min_data_in_leaf=185 : y = 0.93 : 103.2 secs : infill_ei\n",
      "\n",
      "Wed Jul 23 01:39:55 2025 AUC 0.931319568357226\n",
      "\n",
      "[mbo] 35: num_iterations=2041; learning_rate=0.0363; feature_fraction=0.239; num_leaves=15; min_data_in_leaf=196 : y = 0.931 : 82.4 secs : infill_ei\n",
      "\n",
      "Saved the current state after iteration 36 in the file bayesiana.RDATA.\n",
      "\n",
      "Wed Jul 23 01:40:57 2025 AUC 0.931064012297426\n",
      "\n",
      "[mbo] 36: num_iterations=1291; learning_rate=0.0102; feature_fraction=0.589; num_leaves=43; min_data_in_leaf=164 : y = 0.931 : 58.0 secs : infill_ei\n",
      "\n",
      "Wed Jul 23 01:41:55 2025 AUC 0.929851361363523\n",
      "\n",
      "[mbo] 37: num_iterations=1192; learning_rate=0.0143; feature_fraction=0.497; num_leaves=12; min_data_in_leaf=151 : y = 0.93 : 56.9 secs : infill_ei\n",
      "\n",
      "Wed Jul 23 01:43:21 2025 AUC 0.929249621278038\n",
      "\n",
      "[mbo] 38: num_iterations=2032; learning_rate=0.031; feature_fraction=0.11; num_leaves=55; min_data_in_leaf=196 : y = 0.929 : 85.4 secs : infill_ei\n",
      "\n",
      "Wed Jul 23 01:44:35 2025 AUC 0.930349047177605\n",
      "\n",
      "[mbo] 39: num_iterations=1339; learning_rate=0.0376; feature_fraction=0.436; num_leaves=42; min_data_in_leaf=174 : y = 0.93 : 73.4 secs : infill_ei\n",
      "\n",
      "Wed Jul 23 01:45:06 2025 AUC 0.928728469043871\n",
      "\n",
      "[mbo] 40: num_iterations=605; learning_rate=0.0159; feature_fraction=0.459; num_leaves=10; min_data_in_leaf=58 : y = 0.929 : 29.6 secs : infill_ei\n",
      "\n",
      "Wed Jul 23 01:45:41 2025 AUC 0.93023879142031\n",
      "\n",
      "[mbo] 41: num_iterations=887; learning_rate=0.0102; feature_fraction=0.64; num_leaves=51; min_data_in_leaf=150 : y = 0.93 : 34.4 secs : infill_ei\n",
      "\n",
      "Wed Jul 23 01:46:46 2025 AUC 0.931386891650638\n",
      "\n",
      "[mbo] 42: num_iterations=1553; learning_rate=0.0415; feature_fraction=0.227; num_leaves=19; min_data_in_leaf=187 : y = 0.931 : 64.1 secs : infill_ei\n",
      "\n",
      "Wed Jul 23 01:47:32 2025 AUC 0.929961203877238\n",
      "\n",
      "[mbo] 43: num_iterations=942; learning_rate=0.0226; feature_fraction=0.167; num_leaves=61; min_data_in_leaf=200 : y = 0.93 : 44.5 secs : infill_ei\n",
      "\n",
      "Wed Jul 23 01:49:15 2025 AUC 0.930459706901549\n",
      "\n",
      "[mbo] 44: num_iterations=2045; learning_rate=0.01; feature_fraction=0.432; num_leaves=22; min_data_in_leaf=101 : y = 0.93 : 102.1 secs : infill_ei\n",
      "\n",
      "Wed Jul 23 01:50:36 2025 AUC 0.929528281804098\n",
      "\n",
      "[mbo] 45: num_iterations=1981; learning_rate=0.04; feature_fraction=0.329; num_leaves=8; min_data_in_leaf=170 : y = 0.93 : 80.9 secs : infill_ei\n",
      "\n",
      "Saved the current state after iteration 46 in the file bayesiana.RDATA.\n",
      "\n",
      "Wed Jul 23 01:52:18 2025 AUC 0.92911093370152\n",
      "\n",
      "[mbo] 46: num_iterations=2035; learning_rate=0.032; feature_fraction=0.572; num_leaves=37; min_data_in_leaf=200 : y = 0.929 : 97.0 secs : infill_ei\n",
      "\n",
      "Wed Jul 23 01:53:44 2025 AUC 0.930849095562975\n",
      "\n",
      "[mbo] 47: num_iterations=1930; learning_rate=0.0103; feature_fraction=0.293; num_leaves=20; min_data_in_leaf=200 : y = 0.931 : 85.6 secs : infill_ei\n",
      "\n",
      "Wed Jul 23 01:54:49 2025 AUC 0.929448045344753\n",
      "\n",
      "[mbo] 48: num_iterations=1138; learning_rate=0.02; feature_fraction=0.539; num_leaves=51; min_data_in_leaf=50 : y = 0.929 : 63.7 secs : infill_ei\n",
      "\n",
      "Wed Jul 23 01:56:12 2025 AUC 0.929754542029677\n",
      "\n",
      "[mbo] 49: num_iterations=1456; learning_rate=0.022; feature_fraction=0.456; num_leaves=53; min_data_in_leaf=167 : y = 0.93 : 81.9 secs : infill_ei\n",
      "\n",
      "Wed Jul 23 01:57:16 2025 AUC 0.930940259402394\n",
      "\n",
      "[mbo] 50: num_iterations=1215; learning_rate=0.01; feature_fraction=0.335; num_leaves=58; min_data_in_leaf=179 : y = 0.931 : 63.5 secs : infill_ei\n",
      "\n",
      "Saved the final state in the file bayesiana.RDATA\n",
      "\n"
     ]
    }
   ],
   "source": [
    "# inicio la optimizacion bayesiana, retomando si ya existe\n",
    "# es la celda mas lenta de todo el notebook\n",
    "\n",
    "if (!file.exists(kbayesiana)) {\n",
    "  bayesiana_salida <- mbo(obj.fun, learner= surr.km, control= ctrl)\n",
    "} else {\n",
    "  bayesiana_salida <- mboContinue(kbayesiana) # retomo en caso que ya exista\n",
    "}"
   ]
  },
  {
   "cell_type": "code",
   "execution_count": 21,
   "metadata": {
    "id": "ssk5nnMk6INK"
   },
   "outputs": [
    {
     "data": {
      "text/html": [
       "<style>\n",
       ".list-inline {list-style: none; margin:0; padding: 0}\n",
       ".list-inline>li {display: inline-block}\n",
       ".list-inline>li:not(:last-child)::after {content: \"\\00b7\"; padding: 0 .5ex}\n",
       "</style>\n",
       "<ol class=list-inline><li>'num_iterations'</li><li>'learning_rate'</li><li>'feature_fraction'</li><li>'num_leaves'</li><li>'min_data_in_leaf'</li><li>'y'</li><li>'dob'</li><li>'eol'</li><li>'error.message'</li><li>'exec.time'</li><li>'ei'</li><li>'error.model'</li><li>'train.time'</li><li>'prop.type'</li><li>'propose.time'</li><li>'se'</li><li>'mean'</li></ol>\n"
      ],
      "text/latex": [
       "\\begin{enumerate*}\n",
       "\\item 'num\\_iterations'\n",
       "\\item 'learning\\_rate'\n",
       "\\item 'feature\\_fraction'\n",
       "\\item 'num\\_leaves'\n",
       "\\item 'min\\_data\\_in\\_leaf'\n",
       "\\item 'y'\n",
       "\\item 'dob'\n",
       "\\item 'eol'\n",
       "\\item 'error.message'\n",
       "\\item 'exec.time'\n",
       "\\item 'ei'\n",
       "\\item 'error.model'\n",
       "\\item 'train.time'\n",
       "\\item 'prop.type'\n",
       "\\item 'propose.time'\n",
       "\\item 'se'\n",
       "\\item 'mean'\n",
       "\\end{enumerate*}\n"
      ],
      "text/markdown": [
       "1. 'num_iterations'\n",
       "2. 'learning_rate'\n",
       "3. 'feature_fraction'\n",
       "4. 'num_leaves'\n",
       "5. 'min_data_in_leaf'\n",
       "6. 'y'\n",
       "7. 'dob'\n",
       "8. 'eol'\n",
       "9. 'error.message'\n",
       "10. 'exec.time'\n",
       "11. 'ei'\n",
       "12. 'error.model'\n",
       "13. 'train.time'\n",
       "14. 'prop.type'\n",
       "15. 'propose.time'\n",
       "16. 'se'\n",
       "17. 'mean'\n",
       "\n",
       "\n"
      ],
      "text/plain": [
       " [1] \"num_iterations\"   \"learning_rate\"    \"feature_fraction\" \"num_leaves\"      \n",
       " [5] \"min_data_in_leaf\" \"y\"                \"dob\"              \"eol\"             \n",
       " [9] \"error.message\"    \"exec.time\"        \"ei\"               \"error.model\"     \n",
       "[13] \"train.time\"       \"prop.type\"        \"propose.time\"     \"se\"              \n",
       "[17] \"mean\"            "
      ]
     },
     "metadata": {},
     "output_type": "display_data"
    }
   ],
   "source": [
    "\n",
    "tb_bayesiana <- as.data.table(bayesiana_salida$opt.path)\n",
    "colnames( tb_bayesiana)"
   ]
  },
  {
   "cell_type": "code",
   "execution_count": 22,
   "metadata": {
    "id": "u4zq-vknhjGc"
   },
   "outputs": [],
   "source": [
    "# almaceno los resultados de la Bayesian Optimization\n",
    "# y capturo los mejores hiperparametros encontrados\n",
    "\n",
    "tb_bayesiana <- as.data.table(bayesiana_salida$opt.path)\n",
    "\n",
    "tb_bayesiana[, iter := .I]\n",
    "\n",
    "# ordeno en forma descendente por AUC = y\n",
    "setorder(tb_bayesiana, -y)\n",
    "\n",
    "# grabo para eventualmente poder utilizarlos en OTRA corrida\n",
    "fwrite( tb_bayesiana,\n",
    "  file= \"BO_log.txt\",\n",
    "  sep= \"\\t\"\n",
    ")\n",
    "\n",
    "# los mejores hiperparámetros son los que quedaron en el registro 1 de la tabla\n",
    "PARAM$out$lgbm$mejores_hiperparametros <- tb_bayesiana[\n",
    "  1, # el primero es el de mejor AUC\n",
    "  setdiff(colnames(tb_bayesiana),\n",
    "    c(\"y\",\"dob\",\"eol\",\"error.message\",\"exec.time\",\"ei\",\"error.model\",\n",
    "      \"train.time\",\"prop.type\",\"propose.time\",\"se\",\"mean\",\"iter\")),\n",
    "  with= FALSE\n",
    "]\n",
    "\n",
    "\n",
    "PARAM$out$lgbm$y <- tb_bayesiana[1, y]\n"
   ]
  },
  {
   "cell_type": "code",
   "execution_count": 23,
   "metadata": {
    "id": "E8v2eA427N8e"
   },
   "outputs": [],
   "source": [
    "write_yaml( PARAM, file=\"PARAM.yml\")"
   ]
  },
  {
   "cell_type": "code",
   "execution_count": 24,
   "metadata": {
    "id": "iBTWexVU7PGC"
   },
   "outputs": [
    {
     "name": "stdout",
     "output_type": "stream",
     "text": [
      "   num_iterations learning_rate feature_fraction num_leaves min_data_in_leaf\n",
      "            <int>         <num>            <num>      <int>            <int>\n",
      "1:           1223    0.02134861        0.3615117         53              157\n",
      "[1] 0.9316399\n"
     ]
    }
   ],
   "source": [
    "print(PARAM$out$lgbm$mejores_hiperparametros)\n",
    "print(PARAM$out$lgbm$y)"
   ]
  },
  {
   "cell_type": "markdown",
   "metadata": {
    "id": "TKsVZmAnhwX-"
   },
   "source": [
    "## 2.3  Produccion"
   ]
  },
  {
   "cell_type": "markdown",
   "metadata": {
    "id": "RQ_C33Tr5B_9"
   },
   "source": [
    "### Final Training\n",
    "Construyo el modelo final, que es uno solo, no hace ningun tipo de particion < training, validation, testing>]"
   ]
  },
  {
   "cell_type": "code",
   "execution_count": 25,
   "metadata": {
    "id": "eDqfyA14hzwv"
   },
   "outputs": [],
   "source": [
    "setwd(\"/content/buckets/b1/exp\")\n",
    "experimento <- paste0(\"exp\", PARAM$experimento)\n",
    "dir.create(experimento, showWarnings= FALSE)\n",
    "setwd( paste0(\"/content/buckets/b1/exp/\", experimento ))"
   ]
  },
  {
   "cell_type": "markdown",
   "metadata": {
    "id": "8qFmFivf5Iet"
   },
   "source": [
    "#### Final Training Dataset\n",
    "\n",
    "Aqui esta la gran decision de en qué meses hago el Final Training\n",
    "<br> debo utilizar los mejores hiperparámetros que encontré en la optimización bayesiana"
   ]
  },
  {
   "cell_type": "code",
   "execution_count": 26,
   "metadata": {
    "id": "lg5WVZncvc7H"
   },
   "outputs": [],
   "source": [
    "# clase01\n",
    "dataset[, clase01 := ifelse(clase_ternaria %in% c(\"BAJA+1\", \"BAJA+2\"), 1L, 0L)]"
   ]
  },
  {
   "cell_type": "code",
   "execution_count": 27,
   "metadata": {
    "id": "yc9QzXREv0xf"
   },
   "outputs": [],
   "source": [
    "dataset_train <- dataset[foto_mes %in% c(202107)]"
   ]
  },
  {
   "cell_type": "code",
   "execution_count": 28,
   "metadata": {
    "id": "thjdqEBLuvNt"
   },
   "outputs": [],
   "source": [
    "# dejo los datos en el formato que necesita LightGBM\n",
    "\n",
    "dtrain <- lgb.Dataset(\n",
    "  data= data.matrix(dataset_train[, campos_buenos, with= FALSE]),\n",
    "  label= dataset_train[, clase01]\n",
    ")"
   ]
  },
  {
   "cell_type": "markdown",
   "metadata": {
    "id": "VNUa-WSz5Oqu"
   },
   "source": [
    "#### Final Training Hyperparameters"
   ]
  },
  {
   "cell_type": "code",
   "execution_count": 29,
   "metadata": {
    "id": "FgCcvBfEwImu"
   },
   "outputs": [
    {
     "data": {
      "text/html": [
       "<dl>\n",
       "\t<dt>$boosting</dt>\n",
       "\t\t<dd>'gbdt'</dd>\n",
       "\t<dt>$objective</dt>\n",
       "\t\t<dd>'binary'</dd>\n",
       "\t<dt>$metric</dt>\n",
       "\t\t<dd>'auc'</dd>\n",
       "\t<dt>$first_metric_only</dt>\n",
       "\t\t<dd>FALSE</dd>\n",
       "\t<dt>$boost_from_average</dt>\n",
       "\t\t<dd>TRUE</dd>\n",
       "\t<dt>$feature_pre_filter</dt>\n",
       "\t\t<dd>FALSE</dd>\n",
       "\t<dt>$force_row_wise</dt>\n",
       "\t\t<dd>TRUE</dd>\n",
       "\t<dt>$verbosity</dt>\n",
       "\t\t<dd>-100</dd>\n",
       "\t<dt>$seed</dt>\n",
       "\t\t<dd>179573</dd>\n",
       "\t<dt>$max_depth</dt>\n",
       "\t\t<dd>7</dd>\n",
       "\t<dt>$min_gain_to_split</dt>\n",
       "\t\t<dd>0</dd>\n",
       "\t<dt>$min_sum_hessian_in_leaf</dt>\n",
       "\t\t<dd>0.001</dd>\n",
       "\t<dt>$lambda_l1</dt>\n",
       "\t\t<dd>0</dd>\n",
       "\t<dt>$lambda_l2</dt>\n",
       "\t\t<dd>0</dd>\n",
       "\t<dt>$max_bin</dt>\n",
       "\t\t<dd>31</dd>\n",
       "\t<dt>$bagging_fraction</dt>\n",
       "\t\t<dd>1</dd>\n",
       "\t<dt>$pos_bagging_fraction</dt>\n",
       "\t\t<dd>1</dd>\n",
       "\t<dt>$neg_bagging_fraction</dt>\n",
       "\t\t<dd>1</dd>\n",
       "\t<dt>$is_unbalance</dt>\n",
       "\t\t<dd>FALSE</dd>\n",
       "\t<dt>$scale_pos_weight</dt>\n",
       "\t\t<dd>1</dd>\n",
       "\t<dt>$drop_rate</dt>\n",
       "\t\t<dd>0.1</dd>\n",
       "\t<dt>$max_drop</dt>\n",
       "\t\t<dd>50</dd>\n",
       "\t<dt>$skip_drop</dt>\n",
       "\t\t<dd>0.5</dd>\n",
       "\t<dt>$extra_trees</dt>\n",
       "\t\t<dd>FALSE</dd>\n",
       "\t<dt>$num_iterations</dt>\n",
       "\t\t<dd>1223</dd>\n",
       "\t<dt>$learning_rate</dt>\n",
       "\t\t<dd>0.021348609573663</dd>\n",
       "\t<dt>$feature_fraction</dt>\n",
       "\t\t<dd>0.361511672997029</dd>\n",
       "\t<dt>$num_leaves</dt>\n",
       "\t\t<dd>53</dd>\n",
       "\t<dt>$min_data_in_leaf</dt>\n",
       "\t\t<dd>157</dd>\n",
       "</dl>\n"
      ],
      "text/latex": [
       "\\begin{description}\n",
       "\\item[\\$boosting] 'gbdt'\n",
       "\\item[\\$objective] 'binary'\n",
       "\\item[\\$metric] 'auc'\n",
       "\\item[\\$first\\_metric\\_only] FALSE\n",
       "\\item[\\$boost\\_from\\_average] TRUE\n",
       "\\item[\\$feature\\_pre\\_filter] FALSE\n",
       "\\item[\\$force\\_row\\_wise] TRUE\n",
       "\\item[\\$verbosity] -100\n",
       "\\item[\\$seed] 179573\n",
       "\\item[\\$max\\_depth] 7\n",
       "\\item[\\$min\\_gain\\_to\\_split] 0\n",
       "\\item[\\$min\\_sum\\_hessian\\_in\\_leaf] 0.001\n",
       "\\item[\\$lambda\\_l1] 0\n",
       "\\item[\\$lambda\\_l2] 0\n",
       "\\item[\\$max\\_bin] 31\n",
       "\\item[\\$bagging\\_fraction] 1\n",
       "\\item[\\$pos\\_bagging\\_fraction] 1\n",
       "\\item[\\$neg\\_bagging\\_fraction] 1\n",
       "\\item[\\$is\\_unbalance] FALSE\n",
       "\\item[\\$scale\\_pos\\_weight] 1\n",
       "\\item[\\$drop\\_rate] 0.1\n",
       "\\item[\\$max\\_drop] 50\n",
       "\\item[\\$skip\\_drop] 0.5\n",
       "\\item[\\$extra\\_trees] FALSE\n",
       "\\item[\\$num\\_iterations] 1223\n",
       "\\item[\\$learning\\_rate] 0.021348609573663\n",
       "\\item[\\$feature\\_fraction] 0.361511672997029\n",
       "\\item[\\$num\\_leaves] 53\n",
       "\\item[\\$min\\_data\\_in\\_leaf] 157\n",
       "\\end{description}\n"
      ],
      "text/markdown": [
       "$boosting\n",
       ":   'gbdt'\n",
       "$objective\n",
       ":   'binary'\n",
       "$metric\n",
       ":   'auc'\n",
       "$first_metric_only\n",
       ":   FALSE\n",
       "$boost_from_average\n",
       ":   TRUE\n",
       "$feature_pre_filter\n",
       ":   FALSE\n",
       "$force_row_wise\n",
       ":   TRUE\n",
       "$verbosity\n",
       ":   -100\n",
       "$seed\n",
       ":   179573\n",
       "$max_depth\n",
       ":   7\n",
       "$min_gain_to_split\n",
       ":   0\n",
       "$min_sum_hessian_in_leaf\n",
       ":   0.001\n",
       "$lambda_l1\n",
       ":   0\n",
       "$lambda_l2\n",
       ":   0\n",
       "$max_bin\n",
       ":   31\n",
       "$bagging_fraction\n",
       ":   1\n",
       "$pos_bagging_fraction\n",
       ":   1\n",
       "$neg_bagging_fraction\n",
       ":   1\n",
       "$is_unbalance\n",
       ":   FALSE\n",
       "$scale_pos_weight\n",
       ":   1\n",
       "$drop_rate\n",
       ":   0.1\n",
       "$max_drop\n",
       ":   50\n",
       "$skip_drop\n",
       ":   0.5\n",
       "$extra_trees\n",
       ":   FALSE\n",
       "$num_iterations\n",
       ":   1223\n",
       "$learning_rate\n",
       ":   0.021348609573663\n",
       "$feature_fraction\n",
       ":   0.361511672997029\n",
       "$num_leaves\n",
       ":   53\n",
       "$min_data_in_leaf\n",
       ":   157\n",
       "\n",
       "\n"
      ],
      "text/plain": [
       "$boosting\n",
       "[1] \"gbdt\"\n",
       "\n",
       "$objective\n",
       "[1] \"binary\"\n",
       "\n",
       "$metric\n",
       "[1] \"auc\"\n",
       "\n",
       "$first_metric_only\n",
       "[1] FALSE\n",
       "\n",
       "$boost_from_average\n",
       "[1] TRUE\n",
       "\n",
       "$feature_pre_filter\n",
       "[1] FALSE\n",
       "\n",
       "$force_row_wise\n",
       "[1] TRUE\n",
       "\n",
       "$verbosity\n",
       "[1] -100\n",
       "\n",
       "$seed\n",
       "[1] 179573\n",
       "\n",
       "$max_depth\n",
       "[1] 7\n",
       "\n",
       "$min_gain_to_split\n",
       "[1] 0\n",
       "\n",
       "$min_sum_hessian_in_leaf\n",
       "[1] 0.001\n",
       "\n",
       "$lambda_l1\n",
       "[1] 0\n",
       "\n",
       "$lambda_l2\n",
       "[1] 0\n",
       "\n",
       "$max_bin\n",
       "[1] 31\n",
       "\n",
       "$bagging_fraction\n",
       "[1] 1\n",
       "\n",
       "$pos_bagging_fraction\n",
       "[1] 1\n",
       "\n",
       "$neg_bagging_fraction\n",
       "[1] 1\n",
       "\n",
       "$is_unbalance\n",
       "[1] FALSE\n",
       "\n",
       "$scale_pos_weight\n",
       "[1] 1\n",
       "\n",
       "$drop_rate\n",
       "[1] 0.1\n",
       "\n",
       "$max_drop\n",
       "[1] 50\n",
       "\n",
       "$skip_drop\n",
       "[1] 0.5\n",
       "\n",
       "$extra_trees\n",
       "[1] FALSE\n",
       "\n",
       "$num_iterations\n",
       "[1] 1223\n",
       "\n",
       "$learning_rate\n",
       "[1] 0.02134861\n",
       "\n",
       "$feature_fraction\n",
       "[1] 0.3615117\n",
       "\n",
       "$num_leaves\n",
       "[1] 53\n",
       "\n",
       "$min_data_in_leaf\n",
       "[1] 157\n"
      ]
     },
     "metadata": {},
     "output_type": "display_data"
    }
   ],
   "source": [
    "param_final <- modifyList(PARAM$lgbm$param_fijos,\n",
    "  PARAM$out$lgbm$mejores_hiperparametros)\n",
    "\n",
    "param_final"
   ]
  },
  {
   "cell_type": "markdown",
   "metadata": {
    "id": "TZIYn4l95TBH"
   },
   "source": [
    "#### Training\n",
    "Genero el modelo final, siempre sobre TODOS los datos de  final_train, sin hacer ningun tipo de undersampling de la clase mayoritaria"
   ]
  },
  {
   "cell_type": "code",
   "execution_count": 30,
   "metadata": {
    "id": "vPLsd4mMRe4u"
   },
   "outputs": [],
   "source": [
    "# este punto es muy SUTIL  y será revisado en la Clase 05\n",
    "\n",
    "param_normalizado <- copy(param_final)\n",
    "param_normalizado$min_data_in_leaf <-  param_final$min_data_in_leaf / PARAM$trainingstrategy$undersampling"
   ]
  },
  {
   "cell_type": "code",
   "execution_count": 31,
   "metadata": {
    "id": "WRI_-taRwOXO"
   },
   "outputs": [],
   "source": [
    "  # entreno LightGBM\n",
    "\n",
    "  modelo_final <- lgb.train(\n",
    "    data= dtrain,\n",
    "    param= param_normalizado\n",
    "  )"
   ]
  },
  {
   "cell_type": "code",
   "execution_count": 32,
   "metadata": {
    "id": "_bkhnCvj0g3Q"
   },
   "outputs": [],
   "source": [
    "# ahora imprimo la importancia de variables\n",
    "\n",
    "tb_importancia <- as.data.table(lgb.importance(modelo_final))\n",
    "archivo_importancia <- \"impo.txt\"\n",
    "\n",
    "fwrite(tb_importancia,\n",
    "  file= archivo_importancia,\n",
    "  sep= \"\\t\"\n",
    ")"
   ]
  },
  {
   "cell_type": "code",
   "execution_count": 33,
   "metadata": {
    "id": "lZ3sLmbh0kFj"
   },
   "outputs": [],
   "source": [
    "# grabo a disco el modelo en un formato para seres humanos ... ponele ...\n",
    "\n",
    "lgb.save(modelo_final, \"modelo.txt\" )"
   ]
  },
  {
   "cell_type": "markdown",
   "metadata": {
    "id": "VEtp2--t5Ymg"
   },
   "source": [
    "### Scoring"
   ]
  },
  {
   "cell_type": "markdown",
   "metadata": {
    "id": "hI5008Mj5ZdI"
   },
   "source": [
    "Aplico el modelo final a los datos del futuro"
   ]
  },
  {
   "cell_type": "code",
   "execution_count": 34,
   "metadata": {
    "id": "PimBY3N_0ryP"
   },
   "outputs": [],
   "source": [
    "# aplico el modelo a los datos sin clase\n",
    "dfuture <- dataset[foto_mes == 202109]\n",
    "\n",
    "# aplico el modelo a los datos nuevos\n",
    "prediccion <- predict(\n",
    "  modelo_final,\n",
    "  data.matrix(dfuture[, campos_buenos, with= FALSE])\n",
    ")"
   ]
  },
  {
   "cell_type": "markdown",
   "metadata": {
    "id": "D26rNRh55gpw"
   },
   "source": [
    "#### Tabla Prediccion"
   ]
  },
  {
   "cell_type": "code",
   "execution_count": 35,
   "metadata": {
    "id": "RJwg7LHd11yu"
   },
   "outputs": [],
   "source": [
    "# tabla de prediccion\n",
    "\n",
    "tb_prediccion <- dfuture[, list(numero_de_cliente)]\n",
    "tb_prediccion[, prob := prediccion ]\n",
    "\n",
    "# grabo las probabilidad del modelo\n",
    "fwrite(tb_prediccion,\n",
    "  file= \"prediccion.txt\",\n",
    "  sep= \"\\t\"\n",
    ")"
   ]
  },
  {
   "cell_type": "markdown",
   "metadata": {
    "id": "jOt4eG_55ltv"
   },
   "source": [
    "Kaggle Competition Submit"
   ]
  },
  {
   "cell_type": "code",
   "execution_count": 36,
   "metadata": {
    "id": "gWW3tatE12je"
   },
   "outputs": [
    {
     "name": "stdout",
     "output_type": "stream",
     "text": [
      "Successfully submitted to Data Mining, Analista Sr 2025A \n",
      "Successfully submitted to Data Mining, Analista Sr 2025A \n",
      "Successfully submitted to Data Mining, Analista Sr 2025A \n",
      "Successfully submitted to Data Mining, Analista Sr 2025A \n",
      "Successfully submitted to Data Mining, Analista Sr 2025A \n"
     ]
    }
   ],
   "source": [
    "# genero archivos con los  \"envios\" mejores\n",
    "# suba TODOS los archivos a Kaggle\n",
    "\n",
    "# ordeno por probabilidad descendente\n",
    "setorder(tb_prediccion, -prob)\n",
    "\n",
    "dir.create(\"kaggle\")\n",
    "\n",
    "for (envios in PARAM$kaggle$cortes) {\n",
    "\n",
    "  tb_prediccion[, Predicted := 0L] # seteo inicial a 0\n",
    "  tb_prediccion[1:envios, Predicted := 1L] # marclo los primeros\n",
    "\n",
    "  archivo_kaggle <- paste0(\"./kaggle/KA\", PARAM$experimento, \"_\", envios, \".csv\")\n",
    "\n",
    "  # grabo el archivo\n",
    "  fwrite(tb_prediccion[, list(numero_de_cliente, Predicted)],\n",
    "    file= archivo_kaggle,\n",
    "    sep= \",\"\n",
    "  )\n",
    "\n",
    "  # subida a Kaggle, armo la linea de comando\n",
    "  comando <- \"kaggle competitions submit\"\n",
    "  competencia <- paste(\"-c\", PARAM$kaggle$competencia)\n",
    "  arch <- paste( \"-f\", archivo_kaggle)\n",
    "\n",
    "  mensaje <- paste0(\"-m 'envios=\", envios,\n",
    "  \"  semilla=\", PARAM$semilla_primigenia,\n",
    "    \"'\" )\n",
    "\n",
    "  linea <- paste( comando, competencia, arch, mensaje)\n",
    "\n",
    "  salida <- system(linea, intern=TRUE) # el submit a Kaggle\n",
    "  cat(salida, \"\\n\")\n",
    "}"
   ]
  },
  {
   "cell_type": "code",
   "execution_count": 37,
   "metadata": {
    "id": "B9tB2X4439Hg"
   },
   "outputs": [],
   "source": [
    "write_yaml( PARAM, file=\"PARAM.yml\")"
   ]
  },
  {
   "cell_type": "code",
   "execution_count": 38,
   "metadata": {
    "id": "9zA_W25c15DP"
   },
   "outputs": [
    {
     "data": {
      "text/html": [
       "'Wed Jul 23 01:58:37 2025'"
      ],
      "text/latex": [
       "'Wed Jul 23 01:58:37 2025'"
      ],
      "text/markdown": [
       "'Wed Jul 23 01:58:37 2025'"
      ],
      "text/plain": [
       "[1] \"Wed Jul 23 01:58:37 2025\""
      ]
     },
     "metadata": {},
     "output_type": "display_data"
    }
   ],
   "source": [
    "format(Sys.time(), \"%a %b %d %X %Y\")"
   ]
  },
  {
   "cell_type": "markdown",
   "metadata": {
    "id": "UdVZucdLHzZ0"
   },
   "source": [
    "Finalmente usted deberá cargar el resultado de su corrida en la Google Sheet Colaborativa,  hoja **TareaHogar04**\n",
    "<br> Siéntase libre de agregar las columnas que hagan falta a la planilla"
   ]
  },
  {
   "cell_type": "code",
   "execution_count": null,
   "metadata": {
    "id": "WMHh7uNVIJkT"
   },
   "outputs": [],
   "source": []
  }
 ],
 "metadata": {
  "colab": {
   "provenance": []
  },
  "kernelspec": {
   "display_name": "R",
   "language": "R",
   "name": "ir"
  },
  "language_info": {
   "codemirror_mode": "r",
   "file_extension": ".r",
   "mimetype": "text/x-r-source",
   "name": "R",
   "pygments_lexer": "r",
   "version": "4.4.3"
  }
 },
 "nbformat": 4,
 "nbformat_minor": 4
}
